{
 "cells": [
  {
   "cell_type": "markdown",
   "metadata": {},
   "source": [
    "# XARXES - OPCIONAL 1"
   ]
  },
  {
   "cell_type": "markdown",
   "metadata": {},
   "source": [
    "A partir dels diferents tipus de codificació i modulació que hi ha a teoria, farem una cosa una mica més divertida...\n",
    "\n",
    "El xifrat de Hill consisteix en un sistema de substitució poligràfica basat en àlgebra lineal, molt pràctic per operar sobre tres o més símbols simultàniament.\n",
    "Cada lletra es substitueix per un nombre. La forma més senzilla és:\n",
    "\n",
    "\n",
    "A=0,B=1,C=2,...Z=25\n",
    "\n",
    "\n",
    "Per encriptar un missatge, cada bloc de n lletres (considerat com un vector) es multiplica per una matriu M,invertible, i de dimensió nxn (mòdul 26). Per desencriptar el missatge, cada bloc es multiplica per l'invers de la matriu. Aquestes matrius NO S'HAN DE CALCULAR. Es proporcionen en aquest exercici.\n",
    "Les operacions que es fan operem en mòdul 26, això vol dir que només disposem dels números\n",
    "\n",
    "Z26=(0,1,2,3,4,...,25)\n",
    "\n",
    "Per tant el 26 equival al 0, 27 al 1 i així succesivament de forma cíclica.\n",
    "Ajut: Per traduir un número major de 25 a un element del grup, el calculem fent el mòdul (%).\n",
    "Exemple: 231 és més gran que 26 => 231 = 23 mod(26), calculat fent 231%26\n",
    "Matriu d'encriptació:\n",
    "\n",
    "\n",
    "M= [[6,24,1],[13,16,10],[20,17,15]]\n",
    "\n",
    "\n",
    "Matriu per desencriptar:\n",
    "\n",
    "\n",
    "M-1 = [[8,5,10],[21,8,21],[21,12,8]]\n",
    "\n",
    "\n",
    "1.- Genereu una seqüència aleatòria caràcters de text.\n",
    "\n",
    "2.- Crea la funció transforma_text(string) que tingui com a paràmetre d'entrada una cadena de caràcters o string i retorni una llista de números.  A partir de una cadena de text o string, utilitzeu la funció lower() per passar-ho tot a minúscules i convertiu les lletres en números. Si voleu encriptar text normal, deixeu a la mateixa posició aquells valors ('.', ',' ,':', ';'...) que no es poden codificar amb aquestes matrius.\n",
    "\n",
    "Ajuda: Feu servir la següent llista per canviar cada lletra pel seu índex\n",
    "\n",
    "llista_a = ['a','b','c','d','e','f','g','h','i','j','k','l','m','n','o','p', 'q','r','s','t','u','v','w','x','y','z']\n",
    "\n",
    "3.- Encripteu la seqüència\n",
    "\n",
    "4.- Passeu els valors a binari (coficicació ASCII)\n",
    "\n",
    "5.- Codifiqueu la seqüencia binaria encriptada fent servir els diferents models que es donen a teoria\n",
    "\n",
    "6.- Moduleu la seqüència codificada\n",
    "\n",
    "7.- Feu els procés invers per obtenir les dades originals. "
   ]
  },
  {
   "cell_type": "markdown",
   "metadata": {},
   "source": [
    "#### Matrices,listas y otros elementos importantes."
   ]
  },
  {
   "cell_type": "code",
   "execution_count": 65,
   "metadata": {
    "collapsed": true
   },
   "outputs": [],
   "source": [
    "import numpy as np\n",
    "import matplotlib.pyplot as plt\n",
    "\n",
    "#Matriz para encriptar la secuencia\n",
    "matrix = np.array([[6,24,1],[13,16,10],[20,17,15]]) \n",
    "\n",
    "#Matriz para desencriptar nuesta secuencia. M-1 mod 46\n",
    "matrix_inv = np.array([[6,35,10],[7,6,17],[27,14,38]]) \n",
    "\n",
    "#lista de 46 caracteres\n",
    "llista_a = ['a','b','c','d','e','f','g','h','i','j','k','l','m','n','o','p', 'q','r',\n",
    "            's','t','u','v','w','x','y','z',' ','.', ',' ,':', ';','@','#','$','\"',\n",
    "            '~','%','&','=','?','¿','!','¡','-','+','*'] "
   ]
  },
  {
   "cell_type": "markdown",
   "metadata": {},
   "source": [
    "#### Métodos de encriptación y desencriptación"
   ]
  },
  {
   "cell_type": "code",
   "execution_count": 66,
   "metadata": {
    "collapsed": true
   },
   "outputs": [],
   "source": [
    "\"\"\"\n",
    "Transforma una cadena de texto por un número\n",
    "\n",
    "@param: un string\n",
    "@return: array de numeros\n",
    "\"\"\"\n",
    "def transforma_text(string):\n",
    "    \n",
    "    return list(map(lambda x: llista_a.index(x[0]) if x[0] in llista_a else x[0] ,string))\n",
    "    \n",
    "\"\"\"\n",
    "Codifica el mensaje a partir de un array de numeros\n",
    "\n",
    "@param: array de números\n",
    "@return: array de números\n",
    "\"\"\"\n",
    "\n",
    "def encode(text):\n",
    "\n",
    "    numbers = transforma_text(text)\n",
    "    curr_array = numbers\n",
    "    len_word = len(numbers)\n",
    "\n",
    "    new_list = []\n",
    "\n",
    "    if len_word%3 != 0:\n",
    "        for x in range(0,3-len_word%3):\n",
    "            curr_array.append(0)\n",
    "\n",
    "    for i in range(0,len(curr_array),3):\n",
    "        y = np.array(curr_array[i:i+3])\n",
    "        new_list += list(matrix.dot(y))\n",
    "\n",
    "    return list(map(lambda x: llista_a[x%46],new_list))\n",
    "\n",
    "\"\"\"\n",
    "Descodifica el mensaje a partir de un array de numeros\n",
    "\n",
    "@param: array de números\n",
    "@param: longitud del mensaje original\n",
    "@return: -array de números\n",
    "\"\"\"\n",
    "def decode(array,len_msg):\n",
    "    \n",
    "    code = bin_to_ascii(array)\n",
    "    \n",
    "    numbers = transforma_text(code)#Transformamos el texto a números\n",
    "    \n",
    "    curr_array = numbers\n",
    "\n",
    "    new_list = []\n",
    "\n",
    "    for i in range(0,len(curr_array),3):\n",
    "        y = np.array(curr_array[i:i+3])\n",
    "        new_list += list(matrix_inv.dot(y))\n",
    "\n",
    "\n",
    "    return list(map(lambda x: llista_a[x%46],new_list))[:len_msg]\n",
    "\n",
    "\"\"\"\n",
    "Descodifica el mensaje a partir de un array de numeros\n",
    "\n",
    "@param: array de números\n",
    "@param: longitud del mensaje original\n",
    "@return: -array de números\n",
    "\"\"\"\n",
    "def ascii_to_bin(array):\n",
    "    return ''.join(list(map(lambda x: bin(ord(x))[2:].zfill(8), array)))\n",
    "\n"
   ]
  },
  {
   "cell_type": "markdown",
   "metadata": {},
   "source": [
    "#### MODULACIÓN"
   ]
  },
  {
   "cell_type": "code",
   "execution_count": 67,
   "metadata": {
    "collapsed": true
   },
   "outputs": [],
   "source": [
    "\"\"\"\n",
    "Descodifica el mensaje a partir de un array de numeros\n",
    "\n",
    "@param: array de números\n",
    "@param: longitud del mensaje original\n",
    "@return: -array de números\n",
    "\"\"\"\n",
    "def ascii_to_bin(array):\n",
    "    return ''.join(list(map(lambda x: bin(ord(x))[2:].zfill(8), array)))\n",
    "\n",
    "\n",
    "\"\"\"\n",
    "Codificación NRZ-L de la señal\n",
    "@param: señal de entrada\n",
    "@return: señal modulada\n",
    "\"\"\"\n",
    "def encode_nrzl(entry):\n",
    "    \n",
    "    \n",
    "    entry=[int(i) for i in entry]\n",
    "    signal = [1 if i==0 else -1 for i in entry]\n",
    "    return signal\n",
    "\n",
    "\"\"\"\n",
    "Codificación NRZ-I de la señal\n",
    "@param: señal de entrada\n",
    "@return: señal modulada\n",
    "\"\"\"\n",
    "def encode_nrzi(entry):\n",
    "    \n",
    "    \n",
    "    entry=[int(i) for i in entry]\n",
    "    \n",
    "    bit = -1 if(entry[0] == 0) else 1\n",
    "    \n",
    "    signal = [bit]\n",
    "    entry.pop(0)\n",
    "    for i in entry:\n",
    "        if(i==1):\n",
    "            bit = bit*-1\n",
    "        signal.append(bit)\n",
    "    return signal\n",
    "\n",
    "\"\"\"\n",
    "Codificación Bipolar-AMI de la señal\n",
    "@param: señal de entrada\n",
    "@return: señal modulada\n",
    "\"\"\"\n",
    "\n",
    "def encode_biAMI(entry):\n",
    "    \n",
    "    entry=[int(i) for i in entry]\n",
    "    \n",
    "    signal = list()\n",
    "    ones = 0\n",
    "    for i in entry:\n",
    "        if i == 0:\n",
    "            signal.append(i)\n",
    "        else:\n",
    "            ones += 1\n",
    "            if ones%2 == 1: \n",
    "                signal.append(1)\n",
    "            else:\n",
    "                signal.append(-1)\n",
    "        \n",
    "    return signal\n",
    "\n",
    "\"\"\"\n",
    "Codificación Pseudoternaria de la señal\n",
    "@param: señal de entrada\n",
    "@return: señal modulada\n",
    "\"\"\"\n",
    "\n",
    "def encode_pseudoternary(entry):\n",
    "    \n",
    "    entry=[int(i) for i in entry]\n",
    "    \n",
    "    signal = list()\n",
    "    ones = 0\n",
    "    for i in entry:\n",
    "        if i == 1:\n",
    "            signal.append(0)\n",
    "        else:\n",
    "            ones += 1\n",
    "            if ones%2 == 1: \n",
    "                signal.append(1)\n",
    "            else:\n",
    "                signal.append(-1)\n",
    "        \n",
    "    return signal\n",
    "\n",
    "\"\"\"\n",
    "Codificación Manchester de la señal\n",
    "@param: señal de entrada\n",
    "@return: señal modulada\n",
    "\"\"\"\n",
    "def encode_manchester(entry):\n",
    "    \n",
    "    entry=[int(i) for i in entry]\n",
    "    \n",
    "    signal = []\n",
    "    for i in entry:\n",
    "        if i == 0:\n",
    "            signal.append(1)\n",
    "            signal.append(-1)\n",
    "        else:\n",
    "            signal.append(-1)\n",
    "            signal.append(1)\n",
    "            \n",
    "    return signal\n",
    "\n",
    "\"\"\"\n",
    "Codificación Manchester Diferencial de la señal\n",
    "@param: señal de entrada\n",
    "@return: señal modulada\n",
    "\"\"\"\n",
    "\n",
    "def encode_manchester_diff(entry):\n",
    "    \n",
    "    entry=[int(i) for i in entry]\n",
    "    \n",
    "    signal = []\n",
    "    \n",
    "    if entry[0]==0:\n",
    "        signal.append(-1)\n",
    "        signal.append(1)\n",
    "    else:\n",
    "        signal.append(1)\n",
    "        signal.append(-1)\n",
    "    \n",
    "    for i in range(1,len(entry)):\n",
    "        last = signal[len(signal)-2:len(signal)]\n",
    "        if entry[i] == 0:      \n",
    "            signal.append(last[0])\n",
    "            signal.append(last[1])\n",
    "        else:\n",
    "            signal.append(last[1])\n",
    "            signal.append(last[0])\n",
    "            \n",
    "    return signal\n",
    "\n",
    "\"\"\"\n",
    "Codificación B8ZS de la señal\n",
    "@param: señal de entrada\n",
    "@return: señal modulada\n",
    "\"\"\"\n",
    "def encode_b8zs(entry):\n",
    "    \n",
    "    entry = encode_biAMI(entry)\n",
    "    signal = []\n",
    "    \n",
    "    aux = 0\n",
    "    i = 0\n",
    "    ones = 0\n",
    "    \n",
    "    while i != len(entry):\n",
    "        \n",
    "        if entry[i]==0:\n",
    "            if i+8 <= len(entry):\n",
    "                if not 1 in entry[i:i+8] and not -1 in entry[i:i+8]:\n",
    "                    if signal[i-1]==1:\n",
    "                        for x in [0,0,0,1,-1,0,-1,1]:\n",
    "                            signal.append(x)\n",
    "                    else:\n",
    "                        for x in [0,0,0,-1,1,0,1,-1]:\n",
    "                            signal.append(x)\n",
    "                    i+=8\n",
    "                    \n",
    "            signal.append(entry[i])\n",
    "            i+=1\n",
    "        else:\n",
    "            signal.append(entry[i])\n",
    "            i+=1\n",
    "            \n",
    "    return signal\n",
    "\"\"\"\n",
    "Codificación HDB3 de la señal\n",
    "@param: señal de entrada\n",
    "@return: señal modulada\n",
    "\"\"\"\n",
    "def encode_hdb3(entry):\n",
    "    \n",
    "    entry= encode_biAMI(entry)\n",
    "    signal = entry[:]\n",
    "    \n",
    "    i = 0\n",
    "    aux = 0\n",
    "    ones = 0\n",
    "    \n",
    "    while i != len(entry):\n",
    "        \n",
    "        if signal[i] != 0:\n",
    "            ones += 1\n",
    "            aux = signal[i]\n",
    "            i += 1\n",
    "            \n",
    "        else:\n",
    "            if i+4 < len(signal):\n",
    "                if not 1 in signal[i:i+4] and not -1 in signal[i:i+4]:\n",
    "                    if ones%2!=0: #is even\n",
    "                        #ADD B00V\n",
    "                        signal[i]= aux * -1\n",
    "                        signal[i+3]= signal[i]\n",
    "                        signal[i+4:len(signal)] = [-1*x for x in signal[i+4:len(signal)]]\n",
    "                        \n",
    "                        aux*=-1\n",
    "                        ones+=1\n",
    "                    else:\n",
    "                        #ADD 000V\n",
    "                        signal[i+3] = aux\n",
    "            i+=1\n",
    "           \n",
    "    return signal"
   ]
  },
  {
   "cell_type": "markdown",
   "metadata": {},
   "source": [
    "##### OBTENCIÓN DE LA SECUENCIA ORIGINAL"
   ]
  },
  {
   "cell_type": "code",
   "execution_count": 68,
   "metadata": {
    "collapsed": true
   },
   "outputs": [],
   "source": [
    "\"\"\"\n",
    "Pasa de binario a ascii\n",
    "\n",
    "@param: array de números\n",
    "@return: array de caracteres\n",
    "\"\"\"\n",
    "def bin_to_ascii(array):\n",
    "    \n",
    "    code = ''.join(str(x) for x in array)\n",
    "    \n",
    "    return [chr(int(code[i:i+8],2)) for i in range(0,len(array),8)]\n",
    "        \n",
    "\n",
    "\n",
    "\"\"\"\n",
    "Recuperación de la señal codificada por NRZ-I\n",
    "@param: señal de entrada\n",
    "@return: señal modulada\n",
    "\"\"\"\n",
    "def decode_nrzl(entry):\n",
    "    return [1 if i==-1 else 0 for i in entry]\n",
    "\n",
    "\"\"\"\n",
    "Recuperación de la señal codificada por NRZ-I\n",
    "@param: señal de entrada\n",
    "@return: señal modulada\n",
    "\"\"\"\n",
    "def decode_nrzi(entry):\n",
    "    \n",
    "    bit = 0 if(entry[0] == -1) else 1\n",
    "    signal = [bit]\n",
    "    for i in range(1,len(entry)):\n",
    "        if entry[i]==entry[i-1]:\n",
    "            signal.append(0)\n",
    "        else:\n",
    "            signal.append(1)\n",
    "            \n",
    "    return signal\n",
    "\n",
    "\"\"\"\n",
    "Recuperación de la señal codificada por binomial-AMI\n",
    "@param: señal de entrada\n",
    "@return: señal modulada\n",
    "\"\"\"\n",
    "def decode_biAMI(entry):\n",
    "    \n",
    "    return [abs(i) for i in entry]\n",
    "\n",
    "\"\"\"\n",
    "Recuperación de la señal codificada por binomial-AMI\n",
    "@param: señal de entrada\n",
    "@return: señal modulada\n",
    "\"\"\"\n",
    "def decode_pseudoternary(entry):\n",
    "    \n",
    "    return [0 if abs(i)==1 else 1 for i in entry]\n",
    "\n",
    "\"\"\"\n",
    "Recuperación de la señal codificada por Manchester\n",
    "@param: señal de entrada\n",
    "@return: señal modulada\n",
    "\"\"\"\n",
    "def decode_manchester(entry):\n",
    "    \n",
    "    decode=[]\n",
    "    \n",
    "    for i in range(0,len(entry)-1,2):\n",
    "        if entry[i:i+2]==[1,-1]:\n",
    "            decode.append(0)\n",
    "        else:\n",
    "            decode.append(1)\n",
    "          \n",
    "    return decode\n",
    "\"\"\"\n",
    "Recuperación de la señal codificada por Manchester Diferencial\n",
    "@param: señal de entrada\n",
    "@return: señal modulada\n",
    "\"\"\"\n",
    "def decode_manchester_diff(entry):\n",
    "    \n",
    "    decode=[]\n",
    "    \n",
    "    if entry[0:2]==[1,-1]:\n",
    "        decode.append(1)\n",
    "    else:\n",
    "        decode.append(0)\n",
    "        \n",
    "    last = entry[0:2]\n",
    "    \n",
    "    for i in range(2,len(entry)-1,2):\n",
    "        \n",
    "        if entry[i:i+1] == last:\n",
    "            decode.append(0)\n",
    "        else:\n",
    "            decode.append(1)\n",
    "        last = entry[i:i+1]\n",
    "    \n",
    "    return decode\n",
    "\n",
    "\"\"\"\n",
    "Recuperación de la señal codificada por B8ZS\n",
    "@param: señal de entrada\n",
    "@return: señal modulada\n",
    "\"\"\"\n",
    "def decode_b8zs(entry):\n",
    "\n",
    "    positive = [0,0,0,1,-1,0,-1,1]\n",
    "    negative = [0,0,0,-1,1,0,1,-1]\n",
    "    \n",
    "    i = 0\n",
    "    decode = []\n",
    "    while i < len(entry):\n",
    "        if entry[i]==0:\n",
    "            if i+8 <= len(entry):\n",
    "                octet = entry[i:i+8]\n",
    "                if (entry[i-1]==-1 and octet==negative) or (entry[i-1]==1 and octet==positive):\n",
    "                    decode += [0,0,0,0,0,0,0,0]\n",
    "                    i+=8\n",
    "                else:\n",
    "                    decode.append(0)\n",
    "                    i+=1\n",
    "                continue\n",
    "            i+=1\n",
    "            decode.append(0)\n",
    "        else:\n",
    "            decode.append(1)\n",
    "            i+=1\n",
    "    return decode\n",
    "                    \n",
    "\n",
    "\"\"\"\n",
    "Recuperación de la señal codificada por HDB3\n",
    "@param: señal de entrada\n",
    "@return: señal modulada\n",
    "\"\"\"\n",
    "def decode_hdb3(entry):\n",
    "    \n",
    "    decode = entry[:]\n",
    "    aux = 0\n",
    "    i = 0\n",
    "    \n",
    "    while i < len(entry):\n",
    "        \n",
    "        if entry[i] != 0:\n",
    "            if aux == entry[i]:\n",
    "                decode[i-3:i+1]=[0,0,0,0]\n",
    "            aux=entry[i]\n",
    "        i+=1\n",
    "          \n",
    "    return [abs(x) for x in decode]"
   ]
  },
  {
   "cell_type": "markdown",
   "metadata": {},
   "source": [
    "#### main"
   ]
  },
  {
   "cell_type": "code",
   "execution_count": 69,
   "metadata": {},
   "outputs": [
    {
     "name": "stdout",
     "output_type": "stream",
     "text": [
      "Nuestro mensaje es: hello world\n",
      "\n",
      "El mensaje cifrado es l~fo:uz%nah!\n",
      "\n",
      "Pasamos nuestra mensaje secreto a binario:\n",
      "011011000111111001100110011011110011101001110101011110100010010101101110011000010110100000100001\n"
     ]
    }
   ],
   "source": [
    "if __name__== \"__main__\" :\n",
    "    \n",
    "    msg = \"hello world\"\n",
    "\n",
    "    text = str.lower(msg)  #Our string. We will encode it.\n",
    "    print(\"Nuestro mensaje es: {}\\n\".format(text))\n",
    "\n",
    "    #Codificación\n",
    "    \n",
    "    encode_text = ''.join(encode(text))\n",
    "    print(\"El mensaje cifrado es {}\\n\".format(encode_text))\n",
    "    \n",
    "    binari = ascii_to_bin(encode_text)\n",
    "    print(\"Pasamos nuestra mensaje secreto a binario:\\n{}\".format(binari))\n",
    "    \n",
    "    msg_signal = np.array([int(i)for i in binari])"
   ]
  },
  {
   "cell_type": "markdown",
   "metadata": {
    "collapsed": true
   },
   "source": [
    "#### Prueba de codificación y recuperación de la señal"
   ]
  },
  {
   "cell_type": "code",
   "execution_count": 70,
   "metadata": {
    "collapsed": true
   },
   "outputs": [],
   "source": [
    "%matplotlib inline"
   ]
  },
  {
   "cell_type": "markdown",
   "metadata": {},
   "source": [
    "### Non Return Zero - Level"
   ]
  },
  {
   "cell_type": "code",
   "execution_count": 71,
   "metadata": {},
   "outputs": [
    {
     "name": "stdout",
     "output_type": "stream",
     "text": [
      "011011000111111001100110011011110011101001110101011110100010010101101110011000010110100000100001\n"
     ]
    },
    {
     "data": {
      "text/plain": [
       "[<matplotlib.lines.Line2D at 0x7fa8048b0e10>]"
      ]
     },
     "execution_count": 71,
     "metadata": {},
     "output_type": "execute_result"
    },
    {
     "data": {
      "image/png": "[encoded data removed]",
      "text/plain": [
       "<matplotlib.figure.Figure at 0x7fa804aa1400>"
      ]
     },
     "metadata": {},
     "output_type": "display_data"
    }
   ],
   "source": [
    "fig,(ax1,ax2)=plt.subplots(2,1,figsize=(15,5))\n",
    "fig.tight_layout()\n",
    "y = np.array([i for i in range(0,len(msg_signal))])\n",
    "\n",
    "ax1.set_title('Original Signal')\n",
    "ax1.step(y,msg_signal)\n",
    "\n",
    "print(binari)\n",
    "\n",
    "nrzl_encode = encode_nrzl(binari)\n",
    "\n",
    "ax2.set_title('Non Return Zero-Level Codification')\n",
    "ax2.step(y,nrzl_encode)"
   ]
  },
  {
   "cell_type": "code",
   "execution_count": 72,
   "metadata": {},
   "outputs": [
    {
     "name": "stdout",
     "output_type": "stream",
     "text": [
      "mensaje recibido: hello world\n"
     ]
    }
   ],
   "source": [
    "#decodification of our signal\n",
    "nrzl_decode = decode_nrzl(nrzl_encode)\n",
    "\n",
    "#decodification of the message\n",
    "final_msg = decode(nrzl_decode,len(msg))\n",
    "print(\"mensaje recibido: {}\".format(''.join(final_msg)))\n"
   ]
  },
  {
   "cell_type": "markdown",
   "metadata": {},
   "source": [
    "### Non Return Zero - Inverted"
   ]
  },
  {
   "cell_type": "code",
   "execution_count": 73,
   "metadata": {
    "scrolled": true
   },
   "outputs": [
    {
     "data": {
      "text/plain": [
       "[<matplotlib.lines.Line2D at 0x7fa80476a048>]"
      ]
     },
     "execution_count": 73,
     "metadata": {},
     "output_type": "execute_result"
    },
    {
     "data": {
      "image/png": "[encoded data removed]",
      "text/plain": [
       "<matplotlib.figure.Figure at 0x7fa8047d6ac8>"
      ]
     },
     "metadata": {},
     "output_type": "display_data"
    }
   ],
   "source": [
    "fig,(ax1,ax2)=plt.subplots(2,1,figsize=(15,5))\n",
    "fig.tight_layout()\n",
    "y = np.array([i for i in range(0,len(msg_signal))])\n",
    "\n",
    "ax1.set_title('Original Signal')\n",
    "ax1.step(y,msg_signal)\n",
    "\n",
    "nrzi_encode = encode_nrzi(binari)\n",
    "ax2.set_title('Non Return Zero-Level Codification')\n",
    "ax2.step(y,nrzi_encode)"
   ]
  },
  {
   "cell_type": "code",
   "execution_count": 74,
   "metadata": {},
   "outputs": [
    {
     "name": "stdout",
     "output_type": "stream",
     "text": [
      "mensaje recibido: hello world\n"
     ]
    }
   ],
   "source": [
    "#decodification of our signal\n",
    "nrzi_decode = decode_nrzi(nrzi_encode)\n",
    "\n",
    "#decodification of the message\n",
    "final_msg = decode(nrzi_decode,len(msg))\n",
    "print(\"mensaje recibido: {}\".format(''.join(final_msg)))"
   ]
  },
  {
   "cell_type": "markdown",
   "metadata": {},
   "source": [
    "### Bipolar-AMI"
   ]
  },
  {
   "cell_type": "code",
   "execution_count": 75,
   "metadata": {},
   "outputs": [
    {
     "name": "stdout",
     "output_type": "stream",
     "text": [
      "011011000111111001100110011011110011101001110101011110100010010101101110011000010110100000100001\n"
     ]
    },
    {
     "data": {
      "text/plain": [
       "[<matplotlib.lines.Line2D at 0x7fa8045feb70>]"
      ]
     },
     "execution_count": 75,
     "metadata": {},
     "output_type": "execute_result"
    },
    {
     "data": {
      "image/png": "[encoded data removed]",
      "text/plain": [
       "<matplotlib.figure.Figure at 0x7fa8047bee80>"
      ]
     },
     "metadata": {},
     "output_type": "display_data"
    }
   ],
   "source": [
    "fig,(ax1,ax2)=plt.subplots(2,1,figsize=(15,5))\n",
    "fig.tight_layout()\n",
    "y = np.array([i for i in range(0,len(msg_signal))])\n",
    "\n",
    "ax1.set_title('Original Signal')\n",
    "ax1.step(y,msg_signal)\n",
    "\n",
    "biAMI_encode = encode_biAMI(binari)\n",
    "print(binari)\n",
    "ax2.set_title('Bipolar-AMI Codification')\n",
    "ax2.step(y,biAMI_encode)"
   ]
  },
  {
   "cell_type": "code",
   "execution_count": 76,
   "metadata": {},
   "outputs": [
    {
     "name": "stdout",
     "output_type": "stream",
     "text": [
      "mensaje recibido: hello world\n"
     ]
    }
   ],
   "source": [
    "#decodification of our signal\n",
    "biAMI_decode =decode_biAMI(biAMI_encode)\n",
    "\n",
    "#decodification of the message\n",
    "final_msg = decode(biAMI_decode,len(msg))\n",
    "print(\"mensaje recibido: {}\".format(''.join(final_msg)))"
   ]
  },
  {
   "cell_type": "markdown",
   "metadata": {},
   "source": [
    "### Pseudoternary"
   ]
  },
  {
   "cell_type": "code",
   "execution_count": 77,
   "metadata": {},
   "outputs": [
    {
     "name": "stdout",
     "output_type": "stream",
     "text": [
      "011011000111111001100110011011110011101001110101011110100010010101101110011000010110100000100001\n"
     ]
    },
    {
     "data": {
      "text/plain": [
       "[<matplotlib.lines.Line2D at 0x7fa8045d24a8>]"
      ]
     },
     "execution_count": 77,
     "metadata": {},
     "output_type": "execute_result"
    },
    {
     "data": {
      "image/png": "[encoded data removed]",
      "text/plain": [
       "<matplotlib.figure.Figure at 0x7fa8046eae48>"
      ]
     },
     "metadata": {},
     "output_type": "display_data"
    }
   ],
   "source": [
    "fig,(ax1,ax2)=plt.subplots(2,1,figsize=(15,5))\n",
    "fig.tight_layout()\n",
    "y = np.array([i for i in range(0,len(msg_signal))])\n",
    "\n",
    "ax1.set_title('Original Signal')\n",
    "ax1.step(y,msg_signal)\n",
    "\n",
    "pseudoternary_encode = encode_pseudoternary(binari)\n",
    "print(binari)\n",
    "ax2.set_title('Pseudoternary Codification')\n",
    "ax2.step(y,pseudoternary_encode)"
   ]
  },
  {
   "cell_type": "code",
   "execution_count": 78,
   "metadata": {},
   "outputs": [
    {
     "name": "stdout",
     "output_type": "stream",
     "text": [
      "mensaje recibido: hello world\n"
     ]
    }
   ],
   "source": [
    "#decodification of our signal\n",
    "pseudoternary_decode =decode_pseudoternary(pseudoternary_encode)\n",
    "\n",
    "#decodification of the message\n",
    "final_msg = decode(pseudoternary_decode,len(msg))\n",
    "print(\"mensaje recibido: {}\".format(''.join(final_msg)))"
   ]
  },
  {
   "cell_type": "markdown",
   "metadata": {},
   "source": [
    "### Manchester"
   ]
  },
  {
   "cell_type": "code",
   "execution_count": 79,
   "metadata": {},
   "outputs": [
    {
     "data": {
      "text/plain": [
       "[<matplotlib.lines.Line2D at 0x7fa804439ba8>]"
      ]
     },
     "execution_count": 79,
     "metadata": {},
     "output_type": "execute_result"
    },
    {
     "data": {
      "image/png": "[encoded data removed]",
      "text/plain": [
       "<matplotlib.figure.Figure at 0x7fa804566630>"
      ]
     },
     "metadata": {},
     "output_type": "display_data"
    }
   ],
   "source": [
    "fig,(ax1,ax2)=plt.subplots(2,1,figsize=(15,5))\n",
    "fig.tight_layout()\n",
    "y = np.array([i for i in range(0,len(msg_signal))])\n",
    "\n",
    "ax1.set_title('Original Signal')\n",
    "ax1.step(y,msg_signal)\n",
    "\n",
    "manchester_encode = encode_manchester(binari)\n",
    "y = np.array([i for i in range(0,len(manchester_encode))])\n",
    "ax2.set_title('Manchester Codification')\n",
    "ax2.step(y,manchester_encode)"
   ]
  },
  {
   "cell_type": "code",
   "execution_count": 80,
   "metadata": {},
   "outputs": [
    {
     "name": "stdout",
     "output_type": "stream",
     "text": [
      "mensaje recibido: hello world\n"
     ]
    }
   ],
   "source": [
    "#decodification of our signal\n",
    "manchester_decode =decode_manchester(manchester_encode)\n",
    "\n",
    "#decodification of the message\n",
    "final_msg = decode(manchester_decode,len(msg))\n",
    "print(\"mensaje recibido: {}\".format(''.join(final_msg)))"
   ]
  },
  {
   "cell_type": "markdown",
   "metadata": {},
   "source": [
    "### Manchester Differencial"
   ]
  },
  {
   "cell_type": "code",
   "execution_count": 81,
   "metadata": {},
   "outputs": [
    {
     "data": {
      "text/plain": [
       "[<matplotlib.lines.Line2D at 0x7fa804375748>]"
      ]
     },
     "execution_count": 81,
     "metadata": {},
     "output_type": "execute_result"
    },
    {
     "data": {
      "image/png": "[encoded data removed]",
      "text/plain": [
       "<matplotlib.figure.Figure at 0x7fa8043fa470>"
      ]
     },
     "metadata": {},
     "output_type": "display_data"
    }
   ],
   "source": [
    "fig,(ax1,ax2)=plt.subplots(2,1,figsize=(15,5))\n",
    "fig.tight_layout()\n",
    "y = np.array([i for i in range(0,len(msg_signal))])\n",
    "\n",
    "ax1.set_title('Original Signal')\n",
    "ax1.step(y,msg_signal)\n",
    "\n",
    "manchester_diff_encode = encode_manchester_diff(binari)\n",
    "y = np.array([i for i in range(0,len(manchester_diff_encode))])\n",
    "ax2.set_title('Manchester Differencial Codification')\n",
    "ax2.step(y,manchester_diff_encode)"
   ]
  },
  {
   "cell_type": "code",
   "execution_count": 82,
   "metadata": {},
   "outputs": [
    {
     "name": "stdout",
     "output_type": "stream",
     "text": [
      "mensaje recibido: hello world\n"
     ]
    }
   ],
   "source": [
    "#decodification of our signal\n",
    "manchester_diff_decode =decode_manchester_diff(manchester_diff_encode)\n",
    "\n",
    "#decodification of the message\n",
    "final_msg = decode(manchester_diff_decode,len(msg))\n",
    "print(\"mensaje recibido: {}\".format(''.join(final_msg)))"
   ]
  },
  {
   "cell_type": "markdown",
   "metadata": {},
   "source": [
    "### B8ZS"
   ]
  },
  {
   "cell_type": "code",
   "execution_count": 83,
   "metadata": {},
   "outputs": [
    {
     "data": {
      "text/plain": [
       "[<matplotlib.lines.Line2D at 0x7fa8042287f0>]"
      ]
     },
     "execution_count": 83,
     "metadata": {},
     "output_type": "execute_result"
    },
    {
     "data": {
      "image/png": "[encoded data removed]",
      "text/plain": [
       "<matplotlib.figure.Figure at 0x7fa80438d208>"
      ]
     },
     "metadata": {},
     "output_type": "display_data"
    }
   ],
   "source": [
    "fig,(ax1,ax2)=plt.subplots(2,1,figsize=(15,5))\n",
    "fig.tight_layout()\n",
    "y = np.array([i for i in range(0,len(msg_signal))])\n",
    "\n",
    "ax1.set_title('Original Signal')\n",
    "ax1.step(y,msg_signal)\n",
    "\n",
    "b8zs_encode = encode_b8zs(binari)\n",
    "ax2.set_title('B8ZS Codification')\n",
    "ax2.step(y,b8zs_encode)"
   ]
  },
  {
   "cell_type": "code",
   "execution_count": 84,
   "metadata": {},
   "outputs": [
    {
     "name": "stdout",
     "output_type": "stream",
     "text": [
      "mensaje recibido: hello world\n"
     ]
    }
   ],
   "source": [
    "#decodification of our signal\n",
    "b8zs_decode =decode_b8zs(b8zs_encode)\n",
    "\n",
    "#decodification of the message\n",
    "final_msg = decode(b8zs_decode,len(msg))\n",
    "print(\"mensaje recibido: {}\".format(''.join(final_msg)))"
   ]
  },
  {
   "cell_type": "markdown",
   "metadata": {},
   "source": [
    "### HDB3"
   ]
  },
  {
   "cell_type": "code",
   "execution_count": 85,
   "metadata": {},
   "outputs": [
    {
     "data": {
      "text/plain": [
       "[<matplotlib.lines.Line2D at 0x7fa804161390>]"
      ]
     },
     "execution_count": 85,
     "metadata": {},
     "output_type": "execute_result"
    },
    {
     "data": {
      "image/png": "[encoded data removed]",
      "text/plain": [
       "<matplotlib.figure.Figure at 0x7fa8042875f8>"
      ]
     },
     "metadata": {},
     "output_type": "display_data"
    }
   ],
   "source": [
    "fig,(ax1,ax2)=plt.subplots(2,1,figsize=(15,5))\n",
    "fig.tight_layout()\n",
    "y = np.array([i for i in range(0,len(msg_signal))])\n",
    "\n",
    "ax1.set_title('Original Signal')\n",
    "ax1.step(y,msg_signal)\n",
    "\n",
    "hdb3_encode = encode_hdb3(binari)\n",
    "ax2.set_title('HDB3 Codification')\n",
    "ax2.step(y,hdb3_encode)"
   ]
  },
  {
   "cell_type": "code",
   "execution_count": 58,
   "metadata": {},
   "outputs": [
    {
     "name": "stdout",
     "output_type": "stream",
     "text": [
      "mensaje recibido: hello world\n"
     ]
    }
   ],
   "source": [
    "#decodification of our signal\n",
    "hdb3_decode =decode_hdb3(hdb3_encode)\n",
    "\n",
    "#decodification of the message\n",
    "final_msg = decode(hdb3_decode,len(msg))\n",
    "print(\"mensaje recibido: {}\".format(''.join(final_msg)))"
   ]
  },
  {
   "cell_type": "code",
   "execution_count": null,
   "metadata": {
    "collapsed": true
   },
   "outputs": [],
   "source": []
  },
  {
   "cell_type": "code",
   "execution_count": null,
   "metadata": {
    "collapsed": true
   },
   "outputs": [],
   "source": []
  }
 ],
 "metadata": {
  "kernelspec": {
   "display_name": "Python 3",
   "language": "python",
   "name": "python3"
  },
  "language_info": {
   "codemirror_mode": {
    "name": "ipython",
    "version": 3
   },
   "file_extension": ".py",
   "mimetype": "text/x-python",
   "name": "python",
   "nbconvert_exporter": "python",
   "pygments_lexer": "ipython3",
   "version": "3.6.3"
  }
 },
 "nbformat": 4,
 "nbformat_minor": 2
}
